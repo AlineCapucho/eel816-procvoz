{
 "cells": [
  {
   "cell_type": "code",
   "execution_count": 18,
   "metadata": {},
   "outputs": [],
   "source": [
    "import os\n",
    "import numpy as np\n",
    "import pandas as pd\n",
    "import matplotlib.pyplot as plt\n",
    "import seaborn as sns\n",
    "\n",
    "from read_media import get_audio_addrs"
   ]
  },
  {
   "cell_type": "code",
   "execution_count": 28,
   "metadata": {},
   "outputs": [],
   "source": [
    "id_vals = []\n",
    "format_vals = []\n",
    "\n",
    "wav_sizes = []\n",
    "mp3_sizes = []\n",
    "flac_sizes = []\n",
    "aac_sizes = []\n",
    "\n",
    "dataset_path = \"./data/\"\n",
    "results_path = \"./results/\"\n",
    "\n",
    "wav_files = get_audio_addrs(dataset_path, '.wav')\n",
    "mp3_files = get_audio_addrs(results_path, '.mp3')\n",
    "flac_files = get_audio_addrs(results_path, '.flac')\n",
    "aac_files = get_audio_addrs(results_path, '.aac')\n",
    "\n",
    "for i in range(len(wav_files)):\n",
    "    id_vals.append(i)\n",
    "    format_vals.extend([\"wav\", \"mp3\", \"flac\", \"aac\"])\n",
    "    wav_sizes.append(os.path.getsize(wav_files[i]))\n",
    "    mp3_sizes.append(os.path.getsize(mp3_files[i]))\n",
    "    flac_sizes.append(os.path.getsize(flac_files[i]))\n",
    "    aac_sizes.append(os.path.getsize(aac_files[i]))"
   ]
  },
  {
   "cell_type": "code",
   "execution_count": 35,
   "metadata": {},
   "outputs": [
    {
     "name": "stdout",
     "output_type": "stream",
     "text": [
      "   id  wav_size  mp3_size  flac_size  aac_size\n",
      "0   0    157740     15237      71847     45981\n",
      "1   1    194604     18693      88927     55517\n",
      "2   2    108588     10701      52929     34159\n",
      "3   3    145452     14157      68550     40109\n",
      "4   4    129068     12537      62629     35562\n"
     ]
    }
   ],
   "source": [
    "df = pd.DataFrame({'id': id_vals, 'wav_size': wav_sizes, 'mp3_size': mp3_sizes, 'flac_size': flac_sizes, 'aac_size': aac_sizes})\n",
    "df.to_csv(\"./csv_results/filesize_dataframe.csv\", index=False)\n",
    "print(df.head())"
   ]
  }
 ],
 "metadata": {
  "kernelspec": {
   "display_name": "work_env_kernel",
   "language": "python",
   "name": "work_env_kernel"
  },
  "language_info": {
   "codemirror_mode": {
    "name": "ipython",
    "version": 3
   },
   "file_extension": ".py",
   "mimetype": "text/x-python",
   "name": "python",
   "nbconvert_exporter": "python",
   "pygments_lexer": "ipython3",
   "version": "3.12.0"
  }
 },
 "nbformat": 4,
 "nbformat_minor": 2
}
