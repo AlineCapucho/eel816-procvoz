{
 "cells": [
  {
   "cell_type": "code",
   "execution_count": 1,
   "metadata": {},
   "outputs": [],
   "source": [
    "import soundfile as sf"
   ]
  },
  {
   "cell_type": "code",
   "execution_count": 3,
   "metadata": {},
   "outputs": [],
   "source": [
    "audio_path = \"results/jurcic-001-120912_124317_0001940_0002325.flac\"\n",
    "\n",
    "audio4, sr4 = sf.read(audio_path)"
   ]
  },
  {
   "cell_type": "code",
   "execution_count": 6,
   "metadata": {},
   "outputs": [
    {
     "data": {
      "text/plain": [
       "array([-0.00076294, -0.00033569, -0.00076294, ..., -0.00158691,\n",
       "       -0.00164795, -0.00082397])"
      ]
     },
     "execution_count": 6,
     "metadata": {},
     "output_type": "execute_result"
    }
   ],
   "source": [
    "audio4"
   ]
  },
  {
   "cell_type": "code",
   "execution_count": 22,
   "metadata": {},
   "outputs": [
    {
     "name": "stdout",
     "output_type": "stream",
     "text": [
      "(79872,)\n"
     ]
    }
   ],
   "source": [
    "from pydub import AudioSegment\n",
    "\n",
    "def read_aac_file(aac_file):\n",
    "    audio = AudioSegment.from_file(aac_file, format=\"aac\")\n",
    "    array_audio = audio.get_array_of_samples()\n",
    "    return np.array(array_audio)\n",
    "\n",
    "# Exemplo de uso:\n",
    "caminho_arquivo_aac = \"results/jurcic-001-120912_124317_0001940_0002325.aac\"\n",
    "array_audio = ler_arquivo_aac(caminho_arquivo_aac)\n",
    "\n",
    "import numpy as np\n",
    "\n",
    "array_np = np.array(array_audio)\n",
    "print(array_np.shape)"
   ]
  },
  {
   "cell_type": "code",
   "execution_count": 23,
   "metadata": {},
   "outputs": [
    {
     "name": "stdout",
     "output_type": "stream",
     "text": [
      "[  0   0   0 ... -51 -53 -26]\n"
     ]
    }
   ],
   "source": [
    "print(array_np)"
   ]
  }
 ],
 "metadata": {
  "kernelspec": {
   "display_name": "work_env_kernel",
   "language": "python",
   "name": "work_env_kernel"
  },
  "language_info": {
   "codemirror_mode": {
    "name": "ipython",
    "version": 3
   },
   "file_extension": ".py",
   "mimetype": "text/x-python",
   "name": "python",
   "nbconvert_exporter": "python",
   "pygments_lexer": "ipython3",
   "version": "3.12.0"
  }
 },
 "nbformat": 4,
 "nbformat_minor": 2
}
